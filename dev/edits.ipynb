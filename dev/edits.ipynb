{
 "cells": [
  {
   "cell_type": "code",
   "execution_count": 1,
   "metadata": {},
   "outputs": [],
   "source": [
    "from typing import Annotated, TypeVar, Generic\n",
    "from pydantic import RootModel\n",
    "import sequence_edits as se"
   ]
  },
  {
   "cell_type": "code",
   "execution_count": 4,
   "metadata": {},
   "outputs": [
    {
     "data": {
      "text/plain": [
       "['And', 'the', 'earth', 'was', 'without', 'form']"
      ]
     },
     "execution_count": 4,
     "metadata": {},
     "output_type": "execute_result"
    }
   ],
   "source": [
    "edits = [\n",
    "    se.Insert(idx=1, value='the'),\n",
    "    se.Skip(idx=4)\n",
    "]\n",
    "xs = ['And',      'earth', 'was', 'without', 'no', 'form']\n",
    "list(se.apply(edits, xs))\n",
    "#  ['And', 'the', 'earth', 'was', 'without',       'form']"
   ]
  }
 ],
 "metadata": {
  "kernelspec": {
   "display_name": ".venv",
   "language": "python",
   "name": "python3"
  },
  "language_info": {
   "codemirror_mode": {
    "name": "ipython",
    "version": 3
   },
   "file_extension": ".py",
   "mimetype": "text/x-python",
   "name": "python",
   "nbconvert_exporter": "python",
   "pygments_lexer": "ipython3",
   "version": "3.11.6"
  }
 },
 "nbformat": 4,
 "nbformat_minor": 2
}
